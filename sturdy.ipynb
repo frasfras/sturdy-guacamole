pip install mxnet gluoncv matplotlib

import mxnet as mx
import gluoncv as gcv
import matplotlib.pyplot as plt


image1_url ='https://ftech-13f5c4.ingress-erytho.easywp.com/wp-content/uploads/2022/02/Super-Typhoon-Rai-Odette-2021-_-NASA...-scaled.jpg'
image2_url ='https://ftech-13f5c4.ingress-erytho.easywp.com/wp-content/uploads/2022/02/Holiday-Recovery-From-Typhoon-_Odette....png'
image3_url = 'https://ftech-13f5c4.ingress-erytho.easywp.com/wp-content/uploads/2022/02/Typhoon-_Odette_-_worst-ever_-for-Bohol....png' 
image4_url =  'https://ftech-13f5c4.ingress-erytho.easywp.com/wp-content/uploads/2022/02/Odette-damage-to-delay-Philippine....jpg'
image5_url =  'https://ftech-13f5c4.ingress-erytho.easywp.com/wp-content/uploads/2022/02/Odette-a-super-typhoon_-Not-quite_-says....jpg'
image6_url =  'https://ftech-13f5c4.ingress-erytho.easywp.com/wp-content/uploads/2022/02/Typhoon-Odette-leaves-50-dead-in-Bohol....jpeg'
image7_url =  'https://ftech-13f5c4.ingress-erytho.easywp.com/wp-content/uploads/2022/02/Bohol-Typhoon-Odette-Aftermath-Aerial....jpg'
image8_url =  'https://ftech-13f5c4.ingress-erytho.easywp.com/wp-content/uploads/2022/02/Typhoon-_Odette_-kills-six_-34_452....jpg'
image9_url =  'https://ftech-13f5c4.ingress-erytho.easywp.com/wp-content/uploads/2022/02/Typhoon-Odette-leaves-at-least-12-dead....jpg'

images_url= [image1_url, image2_url, image3_url, image4_url, image5_url,image6_url,image7_url,image9_url,image8_url]

images=[]

Prepare the images for object identification

for i in range(len(images_url)):
    gcv.utils.download(url=images_url[i], path='imagedownload0'+str(i)) 
    images.append(mx.image.imread('imagedownload0'+str(i))) 
print('Image download completed.')





** Initialize pretrained neural and classify images

pretrainedNN = gcv.model_zoo.get_model('densenet201', pretrained=True)
top3classes=[]
for i in range(len(images_prepared)):
    top3classes.append(mx.nd.topk(mx.nd.softmax(pretrainedNN(images_prepared[i])), k=3)[0])



print('Picture 1')
plt.imshow(images[0].asnumpy())
for i in range(3):
    index=top3classes[0][i].astype('int').asscalar()
    label=pretrainedNN.classes[index]
    print('#',i+1, 'Detected object: ', label)
